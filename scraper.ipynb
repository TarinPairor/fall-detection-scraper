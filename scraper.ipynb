{
 "cells": [
  {
   "cell_type": "code",
   "execution_count": 2,
   "metadata": {},
   "outputs": [],
   "source": [
    "import requests\n",
    "from bs4 import BeautifulSoup\n",
    "import pandas as pd"
   ]
  },
  {
   "cell_type": "code",
   "execution_count": 19,
   "metadata": {},
   "outputs": [],
   "source": [
    "def fetch_arxiv_papers(query, max_results=1):\n",
    "    \"\"\"\n",
    "    Fetches research papers from arXiv.org based on a query.\n",
    "    \"\"\"\n",
    "    base_url = \"http://export.arxiv.org/api/query\"\n",
    "    params = {\n",
    "        \"search_query\": f\"all:{query}\",\n",
    "        \"start\": 0,\n",
    "        \"max_results\": max_results,\n",
    "        \"sortBy\": \"relevance\",\n",
    "    }\n",
    "    \n",
    "    response = requests.get(base_url, params=params)\n",
    "    \n",
    "    if response.status_code != 200:\n",
    "        print(f\"Failed to fetch data: {response.status_code}\")\n",
    "        return []\n",
    "    \n",
    "    soup = BeautifulSoup(response.content, \"xml\")\n",
    "    papers = []\n",
    "    \n",
    "    for entry in soup.find_all(\"entry\"):\n",
    "        title = entry.title.text.strip()\n",
    "        summary = entry.summary.text.strip()\n",
    "        link = entry.id.text.strip()\n",
    "        authors = [author.find(\"name\").text for author in entry.find_all(\"author\")]\n",
    "        year = entry.published.text.strip().split(\"-\")[0]\n",
    "    \n",
    "        papers.append({\n",
    "            \"Title\": title,\n",
    "            \"Summary\": summary,\n",
    "            \"Authors\": \", \".join(authors),\n",
    "            \"Link\": link,\n",
    "            \"Year\": year\n",
    "        })\n",
    "    \n",
    "    return papers\n"
   ]
  },
  {
   "cell_type": "code",
   "execution_count": 21,
   "metadata": {},
   "outputs": [
    {
     "name": "stdout",
     "output_type": "stream",
     "text": [
      "Saved 1 papers to machine_learning_papers.csv\n"
     ]
    }
   ],
   "source": [
    "def output(query, fn):    \n",
    "    papers = fn(query)\n",
    "\n",
    "    # Save to CSV\n",
    "    df = pd.DataFrame(papers)\n",
    "    df.to_csv(f\"{query.lower().replace(' ', '_')}_papers.csv\", index=False)\n",
    "    print(f\"Saved {len(papers)} papers to {query.lower().replace(' ', '_')}_papers.csv\")\n",
    "output(\"Machine Learning\", fetch_arxiv_papers)"
   ]
  },
  {
   "cell_type": "code",
   "execution_count": 73,
   "metadata": {},
   "outputs": [],
   "source": [
    "headers = {\n",
    "    'User-Agent': 'Mozilla/5.0 (Windows NT 10.0; Win64; x64) AppleWebKit/537.36 (KHTML, like Gecko) Chrome/107.0.0.0 Safari/537.36'\n",
    "}\n",
    "\n",
    "list_of_requests = []\n",
    "url = 'https://www.google.com/search?q=bed+detection+sensory+products&sca_esv=2d3bc29d0d885816&biw=1022&bih=471&tbm=shop&sxsrf=ADLYWIIszWVu_n7SUqCQwP9Om99cwdOPhg%3A1736300653584&ei=bdh9Z9qQI7_G4-EP3KamiQI&ved=0ahUKEwia-7f9_-SKAxU_4zgGHVyTKSEQ4dUDCAg&uact=5&oq=bed+detection+sensory+products&gs_lp=Egtwcm9kdWN0cy1jYyIeYmVkIGRldGVjdGlvbiBzZW5zb3J5IHByb2R1Y3RzSPY2UABY9zVwBHgAkAEAmAFLoAHrDKoBAjMzuAEDyAEA-AEBmAIXoAKFCKgCAcICBxAjGCcY6gLCAgoQABiABBhDGIoFwgIFEAAYgATCAgQQIxgnwgIHEAAYgAQYCsICBxAAGIAEGA3CAgYQABgWGB7CAgsQABjWBRgKGA0YHsICCRAAGNYFGA0YHsICCxAAGAUY1gUYDRgewgILEAAY1gUYCBgNGB7CAgQQIRgKmAMKkgcCMjOgB-RM&sclient=products-cc'\n",
    "\n",
    "page = requests.get(url, headers=headers)"
   ]
  },
  {
   "cell_type": "code",
   "execution_count": 75,
   "metadata": {},
   "outputs": [
    {
     "data": {
      "text/plain": [
       "'<!DOCTYPE html PUBLIC \"-//W3C//DTD HTML 4.01 Transitional//EN\">\\n<html>\\n<head><meta http-equiv=\"content-type\" content=\"text/html; charset=utf-8\"><meta name=\"viewport\" content=\"initial-scale=1\"><title>https://www.google.com/search?q=bed+detection+sensory+products&amp;sca_esv=2d3bc29d0d885816&amp;biw=1022&amp;bih=471&amp;tbm=shop&amp;sxsrf=ADLYWIIszWVu_n7SUqCQwP9Om99cwdOPhg%3A1736300653584&amp;ei=bdh9Z9qQI7_G4-EP3KamiQI&amp;ved=0ahUKEwia-7f9_-SKAxU_4zgGHVyTKSEQ4dUDCAg&amp;uact=5&amp;oq=bed+detection+sensory+products&amp;gs_lp=Egtwcm9kdWN0cy1jYyIeYmVkIGRldGVjdGlvbiBzZW5zb3J5IHByb2R1Y3RzSPY2UABY9zVwBHgAkAEAmAFLoAHrDKoBAjMzuAEDyAEA-AEBmAIXoAKFCKgCAcICBxAjGCcY6gLCAgoQABiABBhDGIoFwgIFEAAYgATCAgQQIxgnwgIHEAAYgAQYCsICBxAAGIAEGA3CAgYQABgWGB7CAgsQABjWBRgKGA0YHsICCRAAGNYFGA0YHsICCxAAGAUY1gUYDRgewgILEAAY1gUYCBgNGB7CAgQQIRgKmAMKkgcCMjOgB-RM&amp;sclient=products-cc</title></head>\\n<body style=\"font-family: arial, sans-serif; background-color: #fff; color: #000; padding:20px; font-size:18px; overscroll-behavior:contain;\" onload=\"e=document.getElementById(\\'captcha\\');if(e){e.focus();} if(solveSimpleChallenge) {solveSimpleChallenge(,);}\">\\n<div style=\"max-width:400px;\">\\n<hr noshade size=\"1\" style=\"color:#ccc; background-color:#ccc;\"><br>\\n<form id=\"captcha-form\" action=\"index\" method=\"post\">\\n<noscript>\\n<div style=\"font-size:13px;\">\\n  In order to continue, please enable javascript on your web browser.\\n</div>\\n</noscript>\\n<script src=\"https://www.google.com/recaptcha/api.js\" async defer></script>\\n<script>var submitCallback = function(response) {document.getElementById(\\'captcha-form\\').submit();};</script>\\n<div id=\"recaptcha\" class=\"g-recaptcha\" data-sitekey=\"6LfwuyUTAAAAAOAmoS0fdqijC2PbbdH4kjq62Y1b\" data-callback=\"submitCallback\" data-s=\"zJM_4yUOlhQHkJN5NAXjUpg1bFGW4goyD7p-e9l295Bwo2917cHH27ddqvgQqbTvMuJQveE-uLJkbR9OuA7ku4Dfqur3nyQ6qEhRgf2jDV-bDKG_1QBVwgYYFim6m5m8zpdrFLnm8fcHuntLAIcYjmks1XmrwL_5NLnh2-Lpzp5pwQYPrZOpyc40fe6KtYmTij4J6O4o0sK1na-lzMs6-abqVbbX3V-UegECJDdUdJ0SkMw76-zuq_ebUJDXiDycz8e0eZfiT43VG4sHVIK3wTXMsJdzVsQ\"></div>\\n\\n<input type=\\'hidden\\' name=\\'q\\' value=\\'EgR2vfMOGLjC97sGIjBUrH_vljNst1NBU7eDW1DDoFPeY9gNRGvKOB4-WtVnourvlJjjboCfC79qRVOfAsoyAXJaAUM\\'><input type=\"hidden\" name=\"continue\" value=\"https://www.google.com/search?q=bed+detection+sensory+products&amp;sca_esv=2d3bc29d0d885816&amp;biw=1022&amp;bih=471&amp;tbm=shop&amp;sxsrf=ADLYWIIszWVu_n7SUqCQwP9Om99cwdOPhg%3A1736300653584&amp;ei=bdh9Z9qQI7_G4-EP3KamiQI&amp;ved=0ahUKEwia-7f9_-SKAxU_4zgGHVyTKSEQ4dUDCAg&amp;uact=5&amp;oq=bed+detection+sensory+products&amp;gs_lp=Egtwcm9kdWN0cy1jYyIeYmVkIGRldGVjdGlvbiBzZW5zb3J5IHByb2R1Y3RzSPY2UABY9zVwBHgAkAEAmAFLoAHrDKoBAjMzuAEDyAEA-AEBmAIXoAKFCKgCAcICBxAjGCcY6gLCAgoQABiABBhDGIoFwgIFEAAYgATCAgQQIxgnwgIHEAAYgAQYCsICBxAAGIAEGA3CAgYQABgWGB7CAgsQABjWBRgKGA0YHsICCRAAGNYFGA0YHsICCxAAGAUY1gUYDRgewgILEAAY1gUYCBgNGB7CAgQQIRgKmAMKkgcCMjOgB-RM&amp;sclient=products-cc\">\\n</form>\\n<hr noshade size=\"1\" style=\"color:#ccc; background-color:#ccc;\">\\n\\n<div style=\"font-size:13px; line-break: anywhere;\">\\n<b>About this page</b><br><br>\\n\\nOur systems have detected unusual traffic from your computer network.  This page checks to see if it&#39;s really you sending the requests, and not a robot.  <a href=\"#\" onclick=\"document.getElementById(\\'infoDiv\\').style.display=\\'block\\';\">Why did this happen?</a><br><br>\\n\\n<div id=\"infoDiv\" style=\"display:none; background-color:#eee; padding:10px; margin:0 0 15px 0; line-height:1.4em;\">\\nThis page appears when Google automatically detects requests coming from your computer network which appear to be in violation of the <a href=\"//www.google.com/policies/terms/\">Terms of Service</a>. The block will expire shortly after those requests stop.  In the meantime, solving the above CAPTCHA will let you continue to use our services.<br><br>This traffic may have been sent by malicious software, a browser plug-in, or a script that sends automated requests.  If you share your network connection, ask your administrator for help &mdash; a different computer using the same IP address may be responsible.  <a href=\"//support.google.com/websearch/answer/86640\">Learn more</a><br><br>Sometimes you may be asked to solve the CAPTCHA if you are using advanced terms that robots are known to use, or sending requests very quickly.\\n</div>\\n\\nIP address: 118.189.243.14<br>Time: 2025-01-08T02:21:44Z<br>URL: https://www.google.com/search?q=bed+detection+sensory+products&amp;sca_esv=2d3bc29d0d885816&amp;biw=1022&amp;bih=471&amp;tbm=shop&amp;sxsrf=ADLYWIIszWVu_n7SUqCQwP9Om99cwdOPhg%3A1736300653584&amp;ei=bdh9Z9qQI7_G4-EP3KamiQI&amp;ved=0ahUKEwia-7f9_-SKAxU_4zgGHVyTKSEQ4dUDCAg&amp;uact=5&amp;oq=bed+detection+sensory+products&amp;gs_lp=Egtwcm9kdWN0cy1jYyIeYmVkIGRldGVjdGlvbiBzZW5zb3J5IHByb2R1Y3RzSPY2UABY9zVwBHgAkAEAmAFLoAHrDKoBAjMzuAEDyAEA-AEBmAIXoAKFCKgCAcICBxAjGCcY6gLCAgoQABiABBhDGIoFwgIFEAAYgATCAgQQIxgnwgIHEAAYgAQYCsICBxAAGIAEGA3CAgYQABgWGB7CAgsQABjWBRgKGA0YHsICCRAAGNYFGA0YHsICCxAAGAUY1gUYDRgewgILEAAY1gUYCBgNGB7CAgQQIRgKmAMKkgcCMjOgB-RM&amp;sclient=products-cc<br>\\n</div>\\n</div>\\n</body>\\n</html>\\n'"
      ]
     },
     "execution_count": 75,
     "metadata": {},
     "output_type": "execute_result"
    }
   ],
   "source": [
    "page.text"
   ]
  },
  {
   "cell_type": "code",
   "execution_count": 72,
   "metadata": {},
   "outputs": [
    {
     "name": "stdout",
     "output_type": "stream",
     "text": [
      "a_tag: [<a href=\"#\" onclick=\"document.getElementById('infoDiv').style.display='block';\">Why did this happen?</a>, <a href=\"//www.google.com/policies/terms/\">Terms of Service</a>, <a href=\"//support.google.com/websearch/answer/86640\">Learn more</a>]\n",
      "Saved to products.csv\n"
     ]
    }
   ],
   "source": [
    "product_soup = BeautifulSoup(page.text, 'html.parser')\n",
    "# find all <a> where there exists child <h3>\n",
    "product_names = []\n",
    "product_links = []\n",
    "print(f'a_tag: {product_soup.find_all(\"a\")}')\n",
    "for a_tag in product_soup.find_all('a'):\n",
    "    h3_tag = a_tag.find('h3')\n",
    "    if h3_tag:\n",
    "        product_name = h3_tag.text\n",
    "        product_link = a_tag['href']\n",
    "        print(f'Product Name: {product_name}')\n",
    "        print(f'Product Link: {product_link}')\n",
    "        product_names.append(product_name)\n",
    "        product_links.append(product_link)\n",
    "product_df = pd.DataFrame({\n",
    "    'Product Name': product_names,\n",
    "    'Product Link': product_links\n",
    "})\n",
    "product_df.to_csv(f\"products.csv\", index=False)\n",
    "print(f\"Saved to products.csv\")"
   ]
  }
 ],
 "metadata": {
  "kernelspec": {
   "display_name": "base",
   "language": "python",
   "name": "python3"
  },
  "language_info": {
   "codemirror_mode": {
    "name": "ipython",
    "version": 3
   },
   "file_extension": ".py",
   "mimetype": "text/x-python",
   "name": "python",
   "nbconvert_exporter": "python",
   "pygments_lexer": "ipython3",
   "version": "3.12.7"
  }
 },
 "nbformat": 4,
 "nbformat_minor": 2
}
