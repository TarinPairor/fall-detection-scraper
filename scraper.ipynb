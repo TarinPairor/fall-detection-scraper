{
 "cells": [
  {
   "cell_type": "code",
   "execution_count": 21,
   "metadata": {},
   "outputs": [],
   "source": [
    "import requests\n",
    "from bs4 import BeautifulSoup\n",
    "import pandas as pd"
   ]
  },
  {
   "cell_type": "code",
   "execution_count": 29,
   "metadata": {},
   "outputs": [],
   "source": [
    "def fetch_arxiv_papers(query, max_results=50):\n",
    "    \"\"\"\n",
    "    Fetches research papers from arXiv.org based on a query.\n",
    "    \"\"\"\n",
    "    base_url = \"http://export.arxiv.org/api/query\"\n",
    "    params = {\n",
    "        \"search_query\": f\"all:{query}\",\n",
    "        \"start\": 0,\n",
    "        \"max_results\": max_results,\n",
    "        \"sortBy\": \"relevance\",\n",
    "    }\n",
    "    \n",
    "    response = requests.get(base_url, params=params)\n",
    "    \n",
    "    if response.status_code != 200:\n",
    "        print(f\"Failed to fetch data: {response.status_code}\")\n",
    "        return []\n",
    "    \n",
    "    soup = BeautifulSoup(response.content, \"xml\")\n",
    "    papers = []\n",
    "    \n",
    "    for entry in soup.find_all(\"entry\"):\n",
    "        title = entry.title.text.strip()\n",
    "        summary = entry.summary.text.strip()\n",
    "        link = entry.id.text.strip()\n",
    "        authors = [author.find(\"name\").text for author in entry.find_all(\"author\")]\n",
    "        year = entry.published.text.strip().split(\"-\")[0]\n",
    "    \n",
    "        papers.append({\n",
    "            \"Title\": title,\n",
    "            \"Summary\": summary,\n",
    "            \"Authors\": \", \".join(authors),\n",
    "            \"Link\": link,\n",
    "            \"Year\": year\n",
    "        })\n",
    "    \n",
    "    return papers\n"
   ]
  },
  {
   "cell_type": "code",
   "execution_count": 36,
   "metadata": {},
   "outputs": [
    {
     "name": "stdout",
     "output_type": "stream",
     "text": [
      "Saved 50 papers to machine_learning_papers.csv\n"
     ]
    }
   ],
   "source": [
    "# Usage\n",
    "query = \"Machine Learning\"\n",
    "papers = fetch_arxiv_papers(query)\n",
    "\n",
    "# Save to CSV\n",
    "df = pd.DataFrame(papers)\n",
    "df.to_csv(f\"{query.lower().replace(' ', '_')}_papers.csv\", index=False)\n",
    "print(f\"Saved {len(papers)} papers to {query.lower().replace(' ', '_')}_papers.csv\")"
   ]
  }
 ],
 "metadata": {
  "kernelspec": {
   "display_name": "base",
   "language": "python",
   "name": "python3"
  },
  "language_info": {
   "codemirror_mode": {
    "name": "ipython",
    "version": 3
   },
   "file_extension": ".py",
   "mimetype": "text/x-python",
   "name": "python",
   "nbconvert_exporter": "python",
   "pygments_lexer": "ipython3",
   "version": "3.12.7"
  }
 },
 "nbformat": 4,
 "nbformat_minor": 2
}
